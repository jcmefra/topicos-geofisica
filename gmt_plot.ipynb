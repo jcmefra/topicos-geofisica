{
 "cells": [
  {
   "cell_type": "code",
   "execution_count": 19,
   "metadata": {},
   "outputs": [],
   "source": [
    "import pandas as pd\n",
    "import pygmt\n",
    "import os"
   ]
  },
  {
   "cell_type": "code",
   "execution_count": 20,
   "metadata": {},
   "outputs": [],
   "source": [
    "import warnings\n",
    "warnings.filterwarnings('ignore')"
   ]
  },
  {
   "cell_type": "markdown",
   "metadata": {},
   "source": [
    "## Cargar los datos"
   ]
  },
  {
   "cell_type": "code",
   "execution_count": 21,
   "metadata": {},
   "outputs": [
    {
     "name": "stdout",
     "output_type": "stream",
     "text": [
      "<class 'pandas.core.frame.DataFrame'>\n",
      "RangeIndex: 24159 entries, 0 to 24158\n",
      "Data columns (total 13 columns):\n",
      " #   Column        Non-Null Count  Dtype  \n",
      "---  ------        --------------  -----  \n",
      " 0   ev_id         24159 non-null  object \n",
      " 1   otime         24159 non-null  object \n",
      " 2   loc           24121 non-null  object \n",
      " 3   lat           24159 non-null  float64\n",
      " 4   lon           24159 non-null  float64\n",
      " 5   dep           24159 non-null  float64\n",
      " 6   mag           24159 non-null  float64\n",
      " 7   alert         11 non-null     object \n",
      " 8   url           24159 non-null  object \n",
      " 9   ev_type       24159 non-null  object \n",
      " 10  significance  24159 non-null  int64  \n",
      " 11  year          24159 non-null  int64  \n",
      " 12  date_str      24159 non-null  object \n",
      "dtypes: float64(4), int64(2), object(7)\n",
      "memory usage: 2.4+ MB\n"
     ]
    }
   ],
   "source": [
    "data= pd.read_csv('events.csv')\n",
    "data.info()"
   ]
  },
  {
   "cell_type": "code",
   "execution_count": 22,
   "metadata": {},
   "outputs": [
    {
     "data": {
      "text/html": [
       "<div>\n",
       "<style scoped>\n",
       "    .dataframe tbody tr th:only-of-type {\n",
       "        vertical-align: middle;\n",
       "    }\n",
       "\n",
       "    .dataframe tbody tr th {\n",
       "        vertical-align: top;\n",
       "    }\n",
       "\n",
       "    .dataframe thead th {\n",
       "        text-align: right;\n",
       "    }\n",
       "</style>\n",
       "<table border=\"1\" class=\"dataframe\">\n",
       "  <thead>\n",
       "    <tr style=\"text-align: right;\">\n",
       "      <th></th>\n",
       "      <th>ev_id</th>\n",
       "      <th>otime</th>\n",
       "      <th>loc</th>\n",
       "      <th>lat</th>\n",
       "      <th>lon</th>\n",
       "      <th>dep</th>\n",
       "      <th>mag</th>\n",
       "      <th>alert</th>\n",
       "      <th>url</th>\n",
       "      <th>ev_type</th>\n",
       "      <th>significance</th>\n",
       "      <th>year</th>\n",
       "      <th>date_str</th>\n",
       "    </tr>\n",
       "  </thead>\n",
       "  <tbody>\n",
       "    <tr>\n",
       "      <th>0</th>\n",
       "      <td>uu60061837</td>\n",
       "      <td>2014-03-30 12:34:39.160</td>\n",
       "      <td>22 km S of Mammoth, Wyoming</td>\n",
       "      <td>44.772167</td>\n",
       "      <td>-110.684667</td>\n",
       "      <td>5.62</td>\n",
       "      <td>4.83</td>\n",
       "      <td>green</td>\n",
       "      <td>https://earthquake.usgs.gov/earthquakes/eventp...</td>\n",
       "      <td>earthquake</td>\n",
       "      <td>700</td>\n",
       "      <td>2014</td>\n",
       "      <td>2014-03-30T12:34:39.160000Z</td>\n",
       "    </tr>\n",
       "    <tr>\n",
       "      <th>1</th>\n",
       "      <td>us20006umx</td>\n",
       "      <td>2016-08-27 20:47:47.240</td>\n",
       "      <td>4 km ENE of Bondurant, Wyoming</td>\n",
       "      <td>43.222600</td>\n",
       "      <td>-110.359300</td>\n",
       "      <td>12.30</td>\n",
       "      <td>4.80</td>\n",
       "      <td>green</td>\n",
       "      <td>https://earthquake.usgs.gov/earthquakes/eventp...</td>\n",
       "      <td>earthquake</td>\n",
       "      <td>580</td>\n",
       "      <td>2016</td>\n",
       "      <td>2016-08-27T20:47:47.240000Z</td>\n",
       "    </tr>\n",
       "    <tr>\n",
       "      <th>2</th>\n",
       "      <td>uu60203137</td>\n",
       "      <td>2017-06-16 00:48:46.940</td>\n",
       "      <td>12 km E of Hebgen Lake Estates, Montana</td>\n",
       "      <td>44.781333</td>\n",
       "      <td>-111.033167</td>\n",
       "      <td>9.30</td>\n",
       "      <td>4.36</td>\n",
       "      <td>green</td>\n",
       "      <td>https://earthquake.usgs.gov/earthquakes/eventp...</td>\n",
       "      <td>earthquake</td>\n",
       "      <td>346</td>\n",
       "      <td>2017</td>\n",
       "      <td>2017-06-16T00:48:46.940000Z</td>\n",
       "    </tr>\n",
       "    <tr>\n",
       "      <th>3</th>\n",
       "      <td>mb80153724</td>\n",
       "      <td>2016-06-13 12:14:39.050</td>\n",
       "      <td>45 km W of Hebgen Lake Estates, Montana</td>\n",
       "      <td>44.730167</td>\n",
       "      <td>-111.763667</td>\n",
       "      <td>9.95</td>\n",
       "      <td>4.34</td>\n",
       "      <td>green</td>\n",
       "      <td>https://earthquake.usgs.gov/earthquakes/eventp...</td>\n",
       "      <td>earthquake</td>\n",
       "      <td>291</td>\n",
       "      <td>2016</td>\n",
       "      <td>2016-06-13T12:14:39.050000Z</td>\n",
       "    </tr>\n",
       "    <tr>\n",
       "      <th>4</th>\n",
       "      <td>uu60497322</td>\n",
       "      <td>2022-05-11 13:32:02.230</td>\n",
       "      <td>36 km S of Silver Gate, Montana</td>\n",
       "      <td>44.681000</td>\n",
       "      <td>-109.996333</td>\n",
       "      <td>13.95</td>\n",
       "      <td>4.22</td>\n",
       "      <td>green</td>\n",
       "      <td>https://earthquake.usgs.gov/earthquakes/eventp...</td>\n",
       "      <td>earthquake</td>\n",
       "      <td>300</td>\n",
       "      <td>2022</td>\n",
       "      <td>2022-05-11T13:32:02.230000Z</td>\n",
       "    </tr>\n",
       "  </tbody>\n",
       "</table>\n",
       "</div>"
      ],
      "text/plain": [
       "        ev_id                    otime  \\\n",
       "0  uu60061837  2014-03-30 12:34:39.160   \n",
       "1  us20006umx  2016-08-27 20:47:47.240   \n",
       "2  uu60203137  2017-06-16 00:48:46.940   \n",
       "3  mb80153724  2016-06-13 12:14:39.050   \n",
       "4  uu60497322  2022-05-11 13:32:02.230   \n",
       "\n",
       "                                       loc        lat         lon    dep  \\\n",
       "0              22 km S of Mammoth, Wyoming  44.772167 -110.684667   5.62   \n",
       "1           4 km ENE of Bondurant, Wyoming  43.222600 -110.359300  12.30   \n",
       "2  12 km E of Hebgen Lake Estates, Montana  44.781333 -111.033167   9.30   \n",
       "3  45 km W of Hebgen Lake Estates, Montana  44.730167 -111.763667   9.95   \n",
       "4          36 km S of Silver Gate, Montana  44.681000 -109.996333  13.95   \n",
       "\n",
       "    mag  alert                                                url     ev_type  \\\n",
       "0  4.83  green  https://earthquake.usgs.gov/earthquakes/eventp...  earthquake   \n",
       "1  4.80  green  https://earthquake.usgs.gov/earthquakes/eventp...  earthquake   \n",
       "2  4.36  green  https://earthquake.usgs.gov/earthquakes/eventp...  earthquake   \n",
       "3  4.34  green  https://earthquake.usgs.gov/earthquakes/eventp...  earthquake   \n",
       "4  4.22  green  https://earthquake.usgs.gov/earthquakes/eventp...  earthquake   \n",
       "\n",
       "   significance  year                     date_str  \n",
       "0           700  2014  2014-03-30T12:34:39.160000Z  \n",
       "1           580  2016  2016-08-27T20:47:47.240000Z  \n",
       "2           346  2017  2017-06-16T00:48:46.940000Z  \n",
       "3           291  2016  2016-06-13T12:14:39.050000Z  \n",
       "4           300  2022  2022-05-11T13:32:02.230000Z  "
      ]
     },
     "execution_count": 22,
     "metadata": {},
     "output_type": "execute_result"
    }
   ],
   "source": [
    "data.head()"
   ]
  },
  {
   "cell_type": "markdown",
   "metadata": {},
   "source": [
    "### Poner los datos en otime"
   ]
  },
  {
   "cell_type": "code",
   "execution_count": 23,
   "metadata": {},
   "outputs": [
    {
     "name": "stdout",
     "output_type": "stream",
     "text": [
      "2012-01-03 10:56:11.780000\n",
      "2022-09-29 23:59:13.570000\n"
     ]
    }
   ],
   "source": [
    "data['otime'] = pd.to_datetime(data['otime'])\n",
    "\n",
    "print (data['otime'].min())\n",
    "print (data['otime'].max())\n"
   ]
  },
  {
   "cell_type": "markdown",
   "metadata": {},
   "source": [
    "**Sismos en el 2020**"
   ]
  },
  {
   "cell_type": "code",
   "execution_count": 24,
   "metadata": {},
   "outputs": [
    {
     "data": {
      "text/plain": [
       "11       True\n",
       "14       True\n",
       "92       True\n",
       "112      True\n",
       "115      True\n",
       "         ... \n",
       "23931    True\n",
       "23942    True\n",
       "23963    True\n",
       "23970    True\n",
       "23973    True\n",
       "Name: otime, Length: 2230, dtype: bool"
      ]
     },
     "execution_count": 24,
     "metadata": {},
     "output_type": "execute_result"
    }
   ],
   "source": [
    "t_0 = pd.to_datetime(f\"{'2020-01-01'} 00:00:00.00\")\n",
    "t_f = pd.to_datetime(f\"{'2021-01-01'} 00:00:00.00\")\n",
    "\n",
    "ix = (t_0 <= data['otime']) & (data['otime'] <= t_f)\n",
    "ix[ix == True]"
   ]
  },
  {
   "cell_type": "markdown",
   "metadata": {},
   "source": [
    "**Magnitud máxima de un sismo**"
   ]
  },
  {
   "cell_type": "code",
   "execution_count": 25,
   "metadata": {},
   "outputs": [
    {
     "data": {
      "text/plain": [
       "4.83"
      ]
     },
     "execution_count": 25,
     "metadata": {},
     "output_type": "execute_result"
    }
   ],
   "source": [
    "mag_max = data['mag'].max()\n",
    "mag_max"
   ]
  },
  {
   "cell_type": "markdown",
   "metadata": {},
   "source": [
    "### Distribución de magnitudes"
   ]
  },
  {
   "cell_type": "code",
   "execution_count": 26,
   "metadata": {},
   "outputs": [],
   "source": [
    "import matplotlib.pyplot as plt\n",
    "import seaborn as sns"
   ]
  },
  {
   "cell_type": "code",
   "execution_count": 27,
   "metadata": {},
   "outputs": [
    {
     "data": {
      "text/plain": [
       "<Axes: xlabel='mag', ylabel='Count'>"
      ]
     },
     "execution_count": 27,
     "metadata": {},
     "output_type": "execute_result"
    },
    {
     "data": {
      "image/png": "[encoded data removed]",
      "text/plain": [
       "<Figure size 640x480 with 1 Axes>"
      ]
     },
     "metadata": {},
     "output_type": "display_data"
    }
   ],
   "source": [
    "sns.histplot(data = data, x = 'mag')"
   ]
  },
  {
   "cell_type": "markdown",
   "metadata": {},
   "source": [
    "**Vamos a eliminar outliers**"
   ]
  },
  {
   "cell_type": "code",
   "execution_count": 28,
   "metadata": {},
   "outputs": [
    {
     "data": {
      "text/html": [
       "<div>\n",
       "<style scoped>\n",
       "    .dataframe tbody tr th:only-of-type {\n",
       "        vertical-align: middle;\n",
       "    }\n",
       "\n",
       "    .dataframe tbody tr th {\n",
       "        vertical-align: top;\n",
       "    }\n",
       "\n",
       "    .dataframe thead th {\n",
       "        text-align: right;\n",
       "    }\n",
       "</style>\n",
       "<table border=\"1\" class=\"dataframe\">\n",
       "  <thead>\n",
       "    <tr style=\"text-align: right;\">\n",
       "      <th></th>\n",
       "      <th>ev_id</th>\n",
       "      <th>otime</th>\n",
       "      <th>loc</th>\n",
       "      <th>lat</th>\n",
       "      <th>lon</th>\n",
       "      <th>dep</th>\n",
       "      <th>mag</th>\n",
       "      <th>alert</th>\n",
       "      <th>url</th>\n",
       "      <th>ev_type</th>\n",
       "      <th>significance</th>\n",
       "      <th>year</th>\n",
       "      <th>date_str</th>\n",
       "    </tr>\n",
       "  </thead>\n",
       "  <tbody>\n",
       "    <tr>\n",
       "      <th>0</th>\n",
       "      <td>uu60061837</td>\n",
       "      <td>2014-03-30 12:34:39.160</td>\n",
       "      <td>22 km S of Mammoth, Wyoming</td>\n",
       "      <td>44.772167</td>\n",
       "      <td>-110.684667</td>\n",
       "      <td>5.62</td>\n",
       "      <td>4.83</td>\n",
       "      <td>green</td>\n",
       "      <td>https://earthquake.usgs.gov/earthquakes/eventp...</td>\n",
       "      <td>earthquake</td>\n",
       "      <td>700</td>\n",
       "      <td>2014</td>\n",
       "      <td>2014-03-30T12:34:39.160000Z</td>\n",
       "    </tr>\n",
       "    <tr>\n",
       "      <th>1</th>\n",
       "      <td>us20006umx</td>\n",
       "      <td>2016-08-27 20:47:47.240</td>\n",
       "      <td>4 km ENE of Bondurant, Wyoming</td>\n",
       "      <td>43.222600</td>\n",
       "      <td>-110.359300</td>\n",
       "      <td>12.30</td>\n",
       "      <td>4.80</td>\n",
       "      <td>green</td>\n",
       "      <td>https://earthquake.usgs.gov/earthquakes/eventp...</td>\n",
       "      <td>earthquake</td>\n",
       "      <td>580</td>\n",
       "      <td>2016</td>\n",
       "      <td>2016-08-27T20:47:47.240000Z</td>\n",
       "    </tr>\n",
       "    <tr>\n",
       "      <th>2</th>\n",
       "      <td>uu60203137</td>\n",
       "      <td>2017-06-16 00:48:46.940</td>\n",
       "      <td>12 km E of Hebgen Lake Estates, Montana</td>\n",
       "      <td>44.781333</td>\n",
       "      <td>-111.033167</td>\n",
       "      <td>9.30</td>\n",
       "      <td>4.36</td>\n",
       "      <td>green</td>\n",
       "      <td>https://earthquake.usgs.gov/earthquakes/eventp...</td>\n",
       "      <td>earthquake</td>\n",
       "      <td>346</td>\n",
       "      <td>2017</td>\n",
       "      <td>2017-06-16T00:48:46.940000Z</td>\n",
       "    </tr>\n",
       "    <tr>\n",
       "      <th>3</th>\n",
       "      <td>mb80153724</td>\n",
       "      <td>2016-06-13 12:14:39.050</td>\n",
       "      <td>45 km W of Hebgen Lake Estates, Montana</td>\n",
       "      <td>44.730167</td>\n",
       "      <td>-111.763667</td>\n",
       "      <td>9.95</td>\n",
       "      <td>4.34</td>\n",
       "      <td>green</td>\n",
       "      <td>https://earthquake.usgs.gov/earthquakes/eventp...</td>\n",
       "      <td>earthquake</td>\n",
       "      <td>291</td>\n",
       "      <td>2016</td>\n",
       "      <td>2016-06-13T12:14:39.050000Z</td>\n",
       "    </tr>\n",
       "    <tr>\n",
       "      <th>4</th>\n",
       "      <td>uu60497322</td>\n",
       "      <td>2022-05-11 13:32:02.230</td>\n",
       "      <td>36 km S of Silver Gate, Montana</td>\n",
       "      <td>44.681000</td>\n",
       "      <td>-109.996333</td>\n",
       "      <td>13.95</td>\n",
       "      <td>4.22</td>\n",
       "      <td>green</td>\n",
       "      <td>https://earthquake.usgs.gov/earthquakes/eventp...</td>\n",
       "      <td>earthquake</td>\n",
       "      <td>300</td>\n",
       "      <td>2022</td>\n",
       "      <td>2022-05-11T13:32:02.230000Z</td>\n",
       "    </tr>\n",
       "  </tbody>\n",
       "</table>\n",
       "</div>"
      ],
      "text/plain": [
       "        ev_id                   otime  \\\n",
       "0  uu60061837 2014-03-30 12:34:39.160   \n",
       "1  us20006umx 2016-08-27 20:47:47.240   \n",
       "2  uu60203137 2017-06-16 00:48:46.940   \n",
       "3  mb80153724 2016-06-13 12:14:39.050   \n",
       "4  uu60497322 2022-05-11 13:32:02.230   \n",
       "\n",
       "                                       loc        lat         lon    dep  \\\n",
       "0              22 km S of Mammoth, Wyoming  44.772167 -110.684667   5.62   \n",
       "1           4 km ENE of Bondurant, Wyoming  43.222600 -110.359300  12.30   \n",
       "2  12 km E of Hebgen Lake Estates, Montana  44.781333 -111.033167   9.30   \n",
       "3  45 km W of Hebgen Lake Estates, Montana  44.730167 -111.763667   9.95   \n",
       "4          36 km S of Silver Gate, Montana  44.681000 -109.996333  13.95   \n",
       "\n",
       "    mag  alert                                                url     ev_type  \\\n",
       "0  4.83  green  https://earthquake.usgs.gov/earthquakes/eventp...  earthquake   \n",
       "1  4.80  green  https://earthquake.usgs.gov/earthquakes/eventp...  earthquake   \n",
       "2  4.36  green  https://earthquake.usgs.gov/earthquakes/eventp...  earthquake   \n",
       "3  4.34  green  https://earthquake.usgs.gov/earthquakes/eventp...  earthquake   \n",
       "4  4.22  green  https://earthquake.usgs.gov/earthquakes/eventp...  earthquake   \n",
       "\n",
       "   significance  year                     date_str  \n",
       "0           700  2014  2014-03-30T12:34:39.160000Z  \n",
       "1           580  2016  2016-08-27T20:47:47.240000Z  \n",
       "2           346  2017  2017-06-16T00:48:46.940000Z  \n",
       "3           291  2016  2016-06-13T12:14:39.050000Z  \n",
       "4           300  2022  2022-05-11T13:32:02.230000Z  "
      ]
     },
     "execution_count": 28,
     "metadata": {},
     "output_type": "execute_result"
    }
   ],
   "source": [
    "no_outliers = data['mag'] > -9.00\n",
    "data = data[no_outliers]\n",
    "data.head()"
   ]
  },
  {
   "cell_type": "code",
   "execution_count": 29,
   "metadata": {},
   "outputs": [
    {
     "data": {
      "image/png": "[encoded data removed]",
      "text/plain": [
       "<Figure size 1000x500 with 2 Axes>"
      ]
     },
     "metadata": {},
     "output_type": "display_data"
    }
   ],
   "source": [
    "fig, axes = plt.subplots (ncols=2, nrows=1, figsize = (10,5))\n",
    "\n",
    "sns.kdeplot(data = data, x = 'mag', ax=axes[0])\n",
    "axes[0].set_title(\"Density\")\n",
    "axes[0].set_xticks(range(0, 5, 1))\n",
    "\n",
    "sns.histplot(data = data, x = 'mag',ax=axes[1])\n",
    "axes[1].set_title(\"Count\")\n",
    "axes[1].set_xticks(range(0, 5, 1))\n",
    "\n",
    "plt.tight_layout()\n",
    "\n",
    "plt.show()"
   ]
  },
  {
   "cell_type": "markdown",
   "metadata": {},
   "source": [
    "## Ley de Gutenberg - Ritcher"
   ]
  },
  {
   "cell_type": "markdown",
   "metadata": {},
   "source": [
    "To determine the scaling parameter `b` in the Gutenberg-Richter law from a dataframe of earthquake magnitudes, you can use a method called **maximum likelihood estimation (MLE)**. Here's a Python code snippet that demonstrates how to do this:\n",
    "\n",
    "```python\n",
    "import numpy as np\n",
    "import pandas as pd\n",
    "\n",
    "# Assuming df is your DataFrame and 'magnitude' is the column with earthquake magnitudes\n",
    "df = pd.DataFrame({'magnitude': [...]})\n",
    "\n",
    "# Define the minimum magnitude to consider\n",
    "min_magnitude = 3.0\n",
    "\n",
    "# Filter the DataFrame to only include rows with magnitude >= min_magnitude\n",
    "df = df[df['magnitude'] >= min_magnitude]\n",
    "\n",
    "# Calculate b-value (the 'scaling parameter')\n",
    "b_value = (1 / (np.mean(df['magnitude']) - min_magnitude)) * np.log(10)\n",
    "\n",
    "print('b-value:', b_value)\n",
    "```\n",
    "\n",
    "This code first filters the dataframe to only include earthquakes with a magnitude greater than or equal to a minimum magnitude that you define. It then calculates the `b` value using the formula for maximum likelihood estimation.\n",
    "\n",
    "Please replace `[...]` with your actual data and adjust `min_magnitude` as needed. This code assumes that the magnitudes are in a column named 'magnitude'. If your column has a different name, please adjust the code accordingly.\n",
    "\n",
    "Remember, this is a simple estimation. For a more accurate estimation, you might want to consider more sophisticated statistical methods or packages."
   ]
  }
 ],
 "metadata": {
  "kernelspec": {
   "display_name": "pygmt",
   "language": "python",
   "name": "python3"
  },
  "language_info": {
   "codemirror_mode": {
    "name": "ipython",
    "version": 3
   },
   "file_extension": ".py",
   "mimetype": "text/x-python",
   "name": "python",
   "nbconvert_exporter": "python",
   "pygments_lexer": "ipython3",
   "version": "3.11.5"
  },
  "orig_nbformat": 4
 },
 "nbformat": 4,
 "nbformat_minor": 2
}
