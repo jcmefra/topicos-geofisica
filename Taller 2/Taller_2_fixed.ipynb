{
 "cells": [
  {
   "cell_type": "code",
   "execution_count": 33,
   "metadata": {},
   "outputs": [],
   "source": [
    "import torch\n",
    "import torchvision\n",
    "import numpy as np\n",
    "import pandas as pd\n",
    "import matplotlib.pyplot as plt\n",
    "import torch.nn as nn\n",
    "from torchvision.transforms import transforms\n",
    "import torch.nn.functional as F\n",
    "import time"
   ]
  },
  {
   "cell_type": "code",
   "execution_count": 34,
   "metadata": {},
   "outputs": [
    {
     "data": {
      "text/plain": [
       "True"
      ]
     },
     "execution_count": 34,
     "metadata": {},
     "output_type": "execute_result"
    }
   ],
   "source": [
    "cuda_available = torch.cuda.is_available()\n",
    "cuda_available"
   ]
  },
  {
   "cell_type": "code",
   "execution_count": 35,
   "metadata": {},
   "outputs": [],
   "source": [
    "device = torch.device(\"cuda\" if torch.cuda.is_available() else \"cpu\")"
   ]
  },
  {
   "cell_type": "markdown",
   "metadata": {},
   "source": [
    "Initializing parameter"
   ]
  },
  {
   "cell_type": "code",
   "execution_count": 36,
   "metadata": {},
   "outputs": [],
   "source": [
    "input_size = 784  # 28x28 pixels\n",
    "hidden_sizes = [200, 150, 100, 80]\n",
    "output_size = 10\n",
    "batch_size = 100\n",
    "learning_rate = 0.01\n",
    "num_epochs = 20"
   ]
  },
  {
   "cell_type": "markdown",
   "metadata": {},
   "source": [
    "## Loading the dataset using Pytorch Dataset and Data Loader"
   ]
  },
  {
   "cell_type": "code",
   "execution_count": 37,
   "metadata": {},
   "outputs": [],
   "source": [
    "transform = transforms.Compose([transforms.ToTensor()])\n",
    "batch_size = 100"
   ]
  },
  {
   "cell_type": "code",
   "execution_count": 38,
   "metadata": {},
   "outputs": [],
   "source": [
    "train_dataset = torchvision.datasets.MNIST('./content', train=True, download=True, transform=transform)\n",
    "\n",
    "test_dataset= torchvision.datasets.MNIST('./content', train=False, download=False, transform=transform)"
   ]
  },
  {
   "cell_type": "code",
   "execution_count": 39,
   "metadata": {},
   "outputs": [],
   "source": [
    "train_dataloader=torch.utils.data.DataLoader(dataset=train_dataset,\n",
    "                                             batch_size=100,shuffle=True)\n",
    "\n",
    "test_dataloader=torch.utils.data.DataLoader(dataset=test_dataset,\n",
    "                                             batch_size=100,shuffle=True)"
   ]
  },
  {
   "cell_type": "code",
   "execution_count": 40,
   "metadata": {},
   "outputs": [
    {
     "name": "stdout",
     "output_type": "stream",
     "text": [
      "number of samplestorch.Size([100, 1, 28, 28])\n",
      "number of labels torch.Size([100])\n"
     ]
    }
   ],
   "source": [
    "data=iter(train_dataloader)\n",
    "samples,labels=next(data)\n",
    "print(f\"number of samples{samples.shape}\")\n",
    "print(f\"number of labels {labels.shape}\")"
   ]
  },
  {
   "cell_type": "markdown",
   "metadata": {},
   "source": [
    "## Saving Images from dataset"
   ]
  },
  {
   "cell_type": "code",
   "execution_count": 41,
   "metadata": {},
   "outputs": [
    {
     "data": {
      "image/png": "[encoded data removed]",
      "text/plain": [
       "<Figure size 1000x800 with 10 Axes>"
      ]
     },
     "metadata": {},
     "output_type": "display_data"
    }
   ],
   "source": [
    "plt.figure(figsize=(10,8))\n",
    "for i in range(10):\n",
    "    plt.subplot(2,5,i+1)\n",
    "    plt.imshow(samples[i][0],cmap='BuPu')\n",
    "plt.savefig('numbers.png')"
   ]
  },
  {
   "cell_type": "markdown",
   "metadata": {},
   "source": [
    "## Defining training pipeline"
   ]
  },
  {
   "cell_type": "code",
   "execution_count": 42,
   "metadata": {},
   "outputs": [],
   "source": [
    "class MNIST(nn.Module):\n",
    "    def __init__(self, input_size, hidden_sizes, output_size):\n",
    "        super(MNIST, self).__init__()\n",
    "        self.layers = nn.ModuleList()\n",
    "        for i in range(len(hidden_sizes)):\n",
    "            if i == 0:\n",
    "                self.layers.append(nn.Linear(input_size, hidden_sizes[i]))\n",
    "            else:\n",
    "                self.layers.append(nn.Linear(hidden_sizes[i - 1], hidden_sizes[i]))\n",
    "            self.layers.append(nn.ReLU())\n",
    "        self.layers.append(nn.Linear(hidden_sizes[-1], output_size))\n",
    "\n",
    "    def forward(self, x):\n",
    "        for layer in self.layers:\n",
    "            x = layer(x)\n",
    "        return x"
   ]
  },
  {
   "cell_type": "code",
   "execution_count": 43,
   "metadata": {},
   "outputs": [],
   "source": [
    "mnist_model = MNIST(input_size, hidden_sizes, output_size)\n",
    "\n",
    "# Move the model to GPU if available\n",
    "if cuda_available:\n",
    "    mnist_model = mnist_model.to('cuda')"
   ]
  },
  {
   "cell_type": "code",
   "execution_count": 44,
   "metadata": {},
   "outputs": [
    {
     "name": "stdout",
     "output_type": "stream",
     "text": [
      "<bound method Module.parameters of MNIST(\n",
      "  (layers): ModuleList(\n",
      "    (0): Linear(in_features=784, out_features=200, bias=True)\n",
      "    (1): ReLU()\n",
      "    (2): Linear(in_features=200, out_features=150, bias=True)\n",
      "    (3): ReLU()\n",
      "    (4): Linear(in_features=150, out_features=100, bias=True)\n",
      "    (5): ReLU()\n",
      "    (6): Linear(in_features=100, out_features=80, bias=True)\n",
      "    (7): ReLU()\n",
      "    (8): Linear(in_features=80, out_features=10, bias=True)\n",
      "  )\n",
      ")>\n"
     ]
    }
   ],
   "source": [
    "print(mnist_model.parameters)"
   ]
  },
  {
   "cell_type": "markdown",
   "metadata": {},
   "source": [
    "### Constructing loss and optimize for the model"
   ]
  },
  {
   "cell_type": "code",
   "execution_count": 45,
   "metadata": {},
   "outputs": [],
   "source": [
    "loss_function = nn.CrossEntropyLoss()\n",
    "optimizer = torch.optim.Adam(mnist_model.parameters(), lr=learning_rate)\n",
    "scheduler = torch.optim.lr_scheduler.StepLR(optimizer, step_size=5, gamma=0.5)"
   ]
  },
  {
   "cell_type": "markdown",
   "metadata": {},
   "source": [
    "## Train the model"
   ]
  },
  {
   "cell_type": "code",
   "execution_count": 46,
   "metadata": {},
   "outputs": [
    {
     "name": "stdout",
     "output_type": "stream",
     "text": [
      "Epoch 1/20, Step 100/600, Loss: 0.2117374986410141\n",
      "Epoch 1/20, Step 200/600, Loss: 0.23246866464614868\n",
      "Epoch 1/20, Step 300/600, Loss: 0.14274489879608154\n",
      "Epoch 1/20, Step 400/600, Loss: 0.2780449688434601\n",
      "Epoch 1/20, Step 500/600, Loss: 0.44769448041915894\n",
      "Epoch 1/20, Step 600/600, Loss: 0.141034796833992\n",
      "Epoch 2/20, Step 100/600, Loss: 0.392310231924057\n",
      "Epoch 2/20, Step 200/600, Loss: 0.14122778177261353\n",
      "Epoch 2/20, Step 300/600, Loss: 0.09450966119766235\n",
      "Epoch 2/20, Step 400/600, Loss: 0.07779156416654587\n",
      "Epoch 2/20, Step 500/600, Loss: 0.13369514048099518\n",
      "Epoch 2/20, Step 600/600, Loss: 0.23922473192214966\n",
      "Epoch 3/20, Step 100/600, Loss: 0.19596943259239197\n",
      "Epoch 3/20, Step 200/600, Loss: 0.11015963554382324\n",
      "Epoch 3/20, Step 300/600, Loss: 0.1086484044790268\n",
      "Epoch 3/20, Step 400/600, Loss: 0.04754560440778732\n",
      "Epoch 3/20, Step 500/600, Loss: 0.10292103886604309\n",
      "Epoch 3/20, Step 600/600, Loss: 0.04603995010256767\n",
      "Epoch 4/20, Step 100/600, Loss: 0.049572981894016266\n",
      "Epoch 4/20, Step 200/600, Loss: 0.08781229704618454\n",
      "Epoch 4/20, Step 300/600, Loss: 0.10648591816425323\n",
      "Epoch 4/20, Step 400/600, Loss: 0.08415917307138443\n",
      "Epoch 4/20, Step 500/600, Loss: 0.10915490984916687\n",
      "Epoch 4/20, Step 600/600, Loss: 0.0873374491930008\n",
      "Epoch 5/20, Step 100/600, Loss: 0.01369938999414444\n",
      "Epoch 5/20, Step 200/600, Loss: 0.08782006055116653\n",
      "Epoch 5/20, Step 300/600, Loss: 0.1253739595413208\n",
      "Epoch 5/20, Step 400/600, Loss: 0.14261730015277863\n",
      "Epoch 5/20, Step 500/600, Loss: 0.041329313069581985\n",
      "Epoch 5/20, Step 600/600, Loss: 0.06847865879535675\n",
      "Epoch 6/20, Step 100/600, Loss: 0.044360898435115814\n",
      "Epoch 6/20, Step 200/600, Loss: 0.07203155755996704\n",
      "Epoch 6/20, Step 300/600, Loss: 0.02918957732617855\n",
      "Epoch 6/20, Step 400/600, Loss: 0.04049139842391014\n",
      "Epoch 6/20, Step 500/600, Loss: 0.07949774712324142\n",
      "Epoch 6/20, Step 600/600, Loss: 0.04207410290837288\n",
      "Epoch 7/20, Step 100/600, Loss: 0.010422660037875175\n",
      "Epoch 7/20, Step 200/600, Loss: 0.14245153963565826\n",
      "Epoch 7/20, Step 300/600, Loss: 0.00745424022898078\n",
      "Epoch 7/20, Step 400/600, Loss: 0.00998267624527216\n",
      "Epoch 7/20, Step 500/600, Loss: 0.009673994965851307\n",
      "Epoch 7/20, Step 600/600, Loss: 0.09996610879898071\n",
      "Epoch 8/20, Step 100/600, Loss: 0.026532460004091263\n",
      "Epoch 8/20, Step 200/600, Loss: 0.017299938946962357\n",
      "Epoch 8/20, Step 300/600, Loss: 0.003292788052931428\n",
      "Epoch 8/20, Step 400/600, Loss: 0.10179111361503601\n",
      "Epoch 8/20, Step 500/600, Loss: 0.0034909655805677176\n",
      "Epoch 8/20, Step 600/600, Loss: 0.013401925563812256\n",
      "Epoch 9/20, Step 100/600, Loss: 0.05460575968027115\n",
      "Epoch 9/20, Step 200/600, Loss: 0.058078378438949585\n",
      "Epoch 9/20, Step 300/600, Loss: 0.034937046468257904\n",
      "Epoch 9/20, Step 400/600, Loss: 0.053322166204452515\n",
      "Epoch 9/20, Step 500/600, Loss: 0.010182943195104599\n",
      "Epoch 9/20, Step 600/600, Loss: 0.059979286044836044\n",
      "Epoch 10/20, Step 100/600, Loss: 0.05050278082489967\n",
      "Epoch 10/20, Step 200/600, Loss: 0.08974485099315643\n",
      "Epoch 10/20, Step 300/600, Loss: 0.01237460970878601\n",
      "Epoch 10/20, Step 400/600, Loss: 0.009405869990587234\n",
      "Epoch 10/20, Step 500/600, Loss: 0.013214252889156342\n",
      "Epoch 10/20, Step 600/600, Loss: 0.007779560051858425\n",
      "Epoch 11/20, Step 100/600, Loss: 0.015274944715201855\n",
      "Epoch 11/20, Step 200/600, Loss: 0.0011335660237818956\n",
      "Epoch 11/20, Step 300/600, Loss: 0.04710277542471886\n",
      "Epoch 11/20, Step 400/600, Loss: 0.008296770043671131\n",
      "Epoch 11/20, Step 500/600, Loss: 0.00230090762488544\n",
      "Epoch 11/20, Step 600/600, Loss: 0.0008667170186527073\n",
      "Epoch 12/20, Step 100/600, Loss: 0.0135874692350626\n",
      "Epoch 12/20, Step 200/600, Loss: 0.0009787369053810835\n",
      "Epoch 12/20, Step 300/600, Loss: 0.0013874497963115573\n",
      "Epoch 12/20, Step 400/600, Loss: 0.004730104934424162\n",
      "Epoch 12/20, Step 500/600, Loss: 0.0007674404769204557\n",
      "Epoch 12/20, Step 600/600, Loss: 0.019817307591438293\n",
      "Epoch 13/20, Step 100/600, Loss: 0.002554750069975853\n",
      "Epoch 13/20, Step 200/600, Loss: 0.04109423607587814\n",
      "Epoch 13/20, Step 300/600, Loss: 0.01186035480350256\n",
      "Epoch 13/20, Step 400/600, Loss: 0.017117464914917946\n",
      "Epoch 13/20, Step 500/600, Loss: 0.059703387320041656\n",
      "Epoch 13/20, Step 600/600, Loss: 0.0011574550298973918\n",
      "Epoch 14/20, Step 100/600, Loss: 0.001287737744860351\n",
      "Epoch 14/20, Step 200/600, Loss: 0.0074977148324251175\n",
      "Epoch 14/20, Step 300/600, Loss: 0.001169850118458271\n",
      "Epoch 14/20, Step 400/600, Loss: 0.013696828857064247\n",
      "Epoch 14/20, Step 500/600, Loss: 0.0009003677987493575\n",
      "Epoch 14/20, Step 600/600, Loss: 0.00210019969381392\n",
      "Epoch 15/20, Step 100/600, Loss: 0.015832975506782532\n",
      "Epoch 15/20, Step 200/600, Loss: 0.0005632401444017887\n",
      "Epoch 15/20, Step 300/600, Loss: 0.0015774701023474336\n",
      "Epoch 15/20, Step 400/600, Loss: 0.0022082459181547165\n",
      "Epoch 15/20, Step 500/600, Loss: 0.021964505314826965\n",
      "Epoch 15/20, Step 600/600, Loss: 0.007468875031918287\n",
      "Epoch 16/20, Step 100/600, Loss: 0.0035909698344767094\n",
      "Epoch 16/20, Step 200/600, Loss: 0.00026809296105057\n",
      "Epoch 16/20, Step 300/600, Loss: 0.0001421401830157265\n",
      "Epoch 16/20, Step 400/600, Loss: 0.0006454010144807398\n",
      "Epoch 16/20, Step 500/600, Loss: 0.00034318864345550537\n",
      "Epoch 16/20, Step 600/600, Loss: 0.0019204909913241863\n",
      "Epoch 17/20, Step 100/600, Loss: 0.00032712402753531933\n",
      "Epoch 17/20, Step 200/600, Loss: 0.00023036575294099748\n",
      "Epoch 17/20, Step 300/600, Loss: 0.0005493778153322637\n",
      "Epoch 17/20, Step 400/600, Loss: 2.1426498278742656e-05\n",
      "Epoch 17/20, Step 500/600, Loss: 0.0015987491933628917\n",
      "Epoch 17/20, Step 600/600, Loss: 0.0012687577400356531\n",
      "Epoch 18/20, Step 100/600, Loss: 2.4639046387164854e-05\n",
      "Epoch 18/20, Step 200/600, Loss: 8.048285963013768e-06\n",
      "Epoch 18/20, Step 300/600, Loss: 0.0002917189267463982\n",
      "Epoch 18/20, Step 400/600, Loss: 0.0004490274877753109\n",
      "Epoch 18/20, Step 500/600, Loss: 0.0009599238401278853\n",
      "Epoch 18/20, Step 600/600, Loss: 0.0005347421974875033\n",
      "Epoch 19/20, Step 100/600, Loss: 7.2292416007258e-05\n",
      "Epoch 19/20, Step 200/600, Loss: 0.03647593408823013\n",
      "Epoch 19/20, Step 300/600, Loss: 0.00021632283460348845\n",
      "Epoch 19/20, Step 400/600, Loss: 0.0002707514213398099\n",
      "Epoch 19/20, Step 500/600, Loss: 6.655266042798758e-05\n",
      "Epoch 19/20, Step 600/600, Loss: 0.0016474000876769423\n",
      "Epoch 20/20, Step 100/600, Loss: 0.0001393369457218796\n",
      "Epoch 20/20, Step 200/600, Loss: 0.011548137292265892\n",
      "Epoch 20/20, Step 300/600, Loss: 5.6604940255056135e-06\n",
      "Epoch 20/20, Step 400/600, Loss: 2.117188341799192e-05\n",
      "Epoch 20/20, Step 500/600, Loss: 0.03229757398366928\n",
      "Epoch 20/20, Step 600/600, Loss: 0.010860594920814037\n",
      "Training completed in 143.14 seconds\n"
     ]
    }
   ],
   "source": [
    "start_time = time.time() \n",
    "\n",
    "for epoch in range(num_epochs):\n",
    "    for i, (images, labels) in enumerate(train_dataloader):\n",
    "        # Move data to GPU if available\n",
    "        if cuda_available:\n",
    "            images = images.reshape(-1, input_size).to('cuda')\n",
    "            labels = labels.to('cuda')\n",
    "\n",
    "        # Forward pass\n",
    "        output = mnist_model(images)\n",
    "\n",
    "        # Calculate the loss\n",
    "        batch_loss = loss_function(output, labels)\n",
    "\n",
    "        # Backpropagation and optimization\n",
    "        optimizer.zero_grad()\n",
    "        batch_loss.backward()\n",
    "        optimizer.step()\n",
    "\n",
    "        # Print progress\n",
    "        if (i + 1) % 100 == 0:\n",
    "            print(f\"Epoch {epoch + 1}/{num_epochs}, Step {i + 1}/{len(train_dataloader)}, Loss: {batch_loss.item()}\")\n",
    "\n",
    "    # Adjust learning rate at the end of each epoch\n",
    "    scheduler.step()\n",
    "\n",
    "end_time = time.time()  # Record end time\n",
    "training_duration = end_time - start_time  # Calculate training duration in seconds\n",
    "\n",
    "print(f\"Training completed in {training_duration:.2f} seconds\")  # Print training duration"
   ]
  },
  {
   "cell_type": "markdown",
   "metadata": {},
   "source": [
    "### Check model accuracy"
   ]
  },
  {
   "cell_type": "code",
   "execution_count": 47,
   "metadata": {},
   "outputs": [],
   "source": [
    "with torch.no_grad():\n",
    "    correct = 0\n",
    "    total = 0\n",
    "    for images, labels in test_dataloader:\n",
    "        if cuda_available:\n",
    "            images = images.reshape(-1, input_size).to('cuda')\n",
    "            labels = labels.to('cuda')\n",
    "\n",
    "        outputs = mnist_model(images)\n",
    "        _, predicted = torch.max(outputs.data, 1)\n",
    "        total += labels.size(0)\n",
    "        correct += (predicted == labels).sum().item()\n",
    "\n",
    "accuracy = (correct / total) * 100"
   ]
  },
  {
   "cell_type": "code",
   "execution_count": 48,
   "metadata": {},
   "outputs": [
    {
     "data": {
      "text/plain": [
       "98.08"
      ]
     },
     "execution_count": 48,
     "metadata": {},
     "output_type": "execute_result"
    }
   ],
   "source": [
    "accuracy"
   ]
  },
  {
   "cell_type": "markdown",
   "metadata": {},
   "source": [
    "## Result prediction"
   ]
  },
  {
   "cell_type": "code",
   "execution_count": 49,
   "metadata": {},
   "outputs": [
    {
     "name": "stdout",
     "output_type": "stream",
     "text": [
      "First 10 Predictions: [9, 1, 0, 2, 8, 0, 1, 2, 4, 7]\n"
     ]
    }
   ],
   "source": [
    "# Result prediction\n",
    "predicted = []\n",
    "\n",
    "with torch.no_grad():\n",
    "    for images, labels in test_dataloader:\n",
    "        if cuda_available:\n",
    "            images = images.reshape(-1, input_size).to('cuda')\n",
    "\n",
    "        output = mnist_model(images)\n",
    "        _, batch_predictions = torch.max(output, 1)\n",
    "        predicted.extend(batch_predictions.cpu().numpy())\n",
    "\n",
    "# Print the first 10 predictions\n",
    "print(\"First 10 Predictions:\", predicted[:10])\n"
   ]
  }
 ],
 "metadata": {
  "kernelspec": {
   "display_name": "pytorch",
   "language": "python",
   "name": "python3"
  },
  "language_info": {
   "codemirror_mode": {
    "name": "ipython",
    "version": 3
   },
   "file_extension": ".py",
   "mimetype": "text/x-python",
   "name": "python",
   "nbconvert_exporter": "python",
   "pygments_lexer": "ipython3",
   "version": "3.11.5"
  }
 },
 "nbformat": 4,
 "nbformat_minor": 2
}
