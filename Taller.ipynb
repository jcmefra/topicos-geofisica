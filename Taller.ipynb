{
 "cells": [
  {
   "cell_type": "code",
   "execution_count": null,
   "metadata": {},
   "outputs": [],
   "source": [
    "import pandas as pd\n",
    "import pygmt\n",
    "import os"
   ]
  },
  {
   "cell_type": "markdown",
   "metadata": {},
   "source": [
    "## Cargar los datos y definir las variables"
   ]
  },
  {
   "cell_type": "code",
   "execution_count": null,
   "metadata": {},
   "outputs": [],
   "source": [
    "data= pd.read_csv('events.csv')\n",
    "data_latitude = data['lat']\n",
    "data_longitude = data['lon']\n",
    "\n",
    "data_st= pd.read_csv('stations_2021-06.txt', sep=',', names= ['net_id', 'sta_id', 'lat', 'lon', 'elev(m)'])\n",
    "data_st.lat = data.st['lat']\n",
    "data_st.lon= data.st['lon']\n",
    "\n",
    "data_year =  data['otime']\n",
    "data_year= pd.to_datetime(data_year)\n",
    "data_year= data_year.dt.year"
   ]
  },
  {
   "cell_type": "markdown",
   "metadata": {},
   "source": [
    "## Definir la región de interés"
   ]
  },
  {
   "cell_type": "code",
   "execution_count": null,
   "metadata": {},
   "outputs": [],
   "source": [
    "region = [-111.2, -110.2, 44.15, 45]"
   ]
  },
  {
   "cell_type": "markdown",
   "metadata": {},
   "source": [
    "100 km x 100 km"
   ]
  },
  {
   "cell_type": "code",
   "execution_count": null,
   "metadata": {},
   "outputs": [],
   "source": [
    "fig = pygmt.Figure()\n",
    "fig.basemap(region = region, projection = 'M16c', frame = 'a')"
   ]
  }
 ],
 "metadata": {
  "language_info": {
   "name": "python"
  },
  "orig_nbformat": 4
 },
 "nbformat": 4,
 "nbformat_minor": 2
}
