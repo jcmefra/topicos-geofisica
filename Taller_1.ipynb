{
 "cells": [
  {
   "cell_type": "code",
   "execution_count": 190,
   "metadata": {},
   "outputs": [],
   "source": [
    "import pandas as pd\n",
    "import pygmt\n",
    "import os"
   ]
  },
  {
   "cell_type": "code",
   "execution_count": 191,
   "metadata": {},
   "outputs": [],
   "source": [
    "import warnings\n",
    "warnings.filterwarnings('ignore')"
   ]
  },
  {
   "cell_type": "markdown",
   "metadata": {},
   "source": [
    "## Cargar los datos"
   ]
  },
  {
   "cell_type": "code",
   "execution_count": 192,
   "metadata": {},
   "outputs": [],
   "source": [
    "data= pd.read_csv('events.csv')"
   ]
  },
  {
   "cell_type": "code",
   "execution_count": 193,
   "metadata": {},
   "outputs": [
    {
     "data": {
      "text/html": [
       "<div>\n",
       "<style scoped>\n",
       "    .dataframe tbody tr th:only-of-type {\n",
       "        vertical-align: middle;\n",
       "    }\n",
       "\n",
       "    .dataframe tbody tr th {\n",
       "        vertical-align: top;\n",
       "    }\n",
       "\n",
       "    .dataframe thead th {\n",
       "        text-align: right;\n",
       "    }\n",
       "</style>\n",
       "<table border=\"1\" class=\"dataframe\">\n",
       "  <thead>\n",
       "    <tr style=\"text-align: right;\">\n",
       "      <th></th>\n",
       "      <th>ev_id</th>\n",
       "      <th>otime</th>\n",
       "      <th>loc</th>\n",
       "      <th>lat</th>\n",
       "      <th>lon</th>\n",
       "      <th>dep</th>\n",
       "      <th>mag</th>\n",
       "      <th>alert</th>\n",
       "      <th>url</th>\n",
       "      <th>ev_type</th>\n",
       "      <th>significance</th>\n",
       "      <th>year</th>\n",
       "      <th>date_str</th>\n",
       "    </tr>\n",
       "  </thead>\n",
       "  <tbody>\n",
       "    <tr>\n",
       "      <th>0</th>\n",
       "      <td>uu60061837</td>\n",
       "      <td>2014-03-30 12:34:39.160</td>\n",
       "      <td>22 km S of Mammoth, Wyoming</td>\n",
       "      <td>44.772167</td>\n",
       "      <td>-110.684667</td>\n",
       "      <td>5.62</td>\n",
       "      <td>4.83</td>\n",
       "      <td>green</td>\n",
       "      <td>https://earthquake.usgs.gov/earthquakes/eventp...</td>\n",
       "      <td>earthquake</td>\n",
       "      <td>700</td>\n",
       "      <td>2014</td>\n",
       "      <td>2014-03-30T12:34:39.160000Z</td>\n",
       "    </tr>\n",
       "    <tr>\n",
       "      <th>1</th>\n",
       "      <td>us20006umx</td>\n",
       "      <td>2016-08-27 20:47:47.240</td>\n",
       "      <td>4 km ENE of Bondurant, Wyoming</td>\n",
       "      <td>43.222600</td>\n",
       "      <td>-110.359300</td>\n",
       "      <td>12.30</td>\n",
       "      <td>4.80</td>\n",
       "      <td>green</td>\n",
       "      <td>https://earthquake.usgs.gov/earthquakes/eventp...</td>\n",
       "      <td>earthquake</td>\n",
       "      <td>580</td>\n",
       "      <td>2016</td>\n",
       "      <td>2016-08-27T20:47:47.240000Z</td>\n",
       "    </tr>\n",
       "    <tr>\n",
       "      <th>2</th>\n",
       "      <td>uu60203137</td>\n",
       "      <td>2017-06-16 00:48:46.940</td>\n",
       "      <td>12 km E of Hebgen Lake Estates, Montana</td>\n",
       "      <td>44.781333</td>\n",
       "      <td>-111.033167</td>\n",
       "      <td>9.30</td>\n",
       "      <td>4.36</td>\n",
       "      <td>green</td>\n",
       "      <td>https://earthquake.usgs.gov/earthquakes/eventp...</td>\n",
       "      <td>earthquake</td>\n",
       "      <td>346</td>\n",
       "      <td>2017</td>\n",
       "      <td>2017-06-16T00:48:46.940000Z</td>\n",
       "    </tr>\n",
       "    <tr>\n",
       "      <th>3</th>\n",
       "      <td>mb80153724</td>\n",
       "      <td>2016-06-13 12:14:39.050</td>\n",
       "      <td>45 km W of Hebgen Lake Estates, Montana</td>\n",
       "      <td>44.730167</td>\n",
       "      <td>-111.763667</td>\n",
       "      <td>9.95</td>\n",
       "      <td>4.34</td>\n",
       "      <td>green</td>\n",
       "      <td>https://earthquake.usgs.gov/earthquakes/eventp...</td>\n",
       "      <td>earthquake</td>\n",
       "      <td>291</td>\n",
       "      <td>2016</td>\n",
       "      <td>2016-06-13T12:14:39.050000Z</td>\n",
       "    </tr>\n",
       "    <tr>\n",
       "      <th>4</th>\n",
       "      <td>uu60497322</td>\n",
       "      <td>2022-05-11 13:32:02.230</td>\n",
       "      <td>36 km S of Silver Gate, Montana</td>\n",
       "      <td>44.681000</td>\n",
       "      <td>-109.996333</td>\n",
       "      <td>13.95</td>\n",
       "      <td>4.22</td>\n",
       "      <td>green</td>\n",
       "      <td>https://earthquake.usgs.gov/earthquakes/eventp...</td>\n",
       "      <td>earthquake</td>\n",
       "      <td>300</td>\n",
       "      <td>2022</td>\n",
       "      <td>2022-05-11T13:32:02.230000Z</td>\n",
       "    </tr>\n",
       "  </tbody>\n",
       "</table>\n",
       "</div>"
      ],
      "text/plain": [
       "        ev_id                    otime  \\\n",
       "0  uu60061837  2014-03-30 12:34:39.160   \n",
       "1  us20006umx  2016-08-27 20:47:47.240   \n",
       "2  uu60203137  2017-06-16 00:48:46.940   \n",
       "3  mb80153724  2016-06-13 12:14:39.050   \n",
       "4  uu60497322  2022-05-11 13:32:02.230   \n",
       "\n",
       "                                       loc        lat         lon    dep  \\\n",
       "0              22 km S of Mammoth, Wyoming  44.772167 -110.684667   5.62   \n",
       "1           4 km ENE of Bondurant, Wyoming  43.222600 -110.359300  12.30   \n",
       "2  12 km E of Hebgen Lake Estates, Montana  44.781333 -111.033167   9.30   \n",
       "3  45 km W of Hebgen Lake Estates, Montana  44.730167 -111.763667   9.95   \n",
       "4          36 km S of Silver Gate, Montana  44.681000 -109.996333  13.95   \n",
       "\n",
       "    mag  alert                                                url     ev_type  \\\n",
       "0  4.83  green  https://earthquake.usgs.gov/earthquakes/eventp...  earthquake   \n",
       "1  4.80  green  https://earthquake.usgs.gov/earthquakes/eventp...  earthquake   \n",
       "2  4.36  green  https://earthquake.usgs.gov/earthquakes/eventp...  earthquake   \n",
       "3  4.34  green  https://earthquake.usgs.gov/earthquakes/eventp...  earthquake   \n",
       "4  4.22  green  https://earthquake.usgs.gov/earthquakes/eventp...  earthquake   \n",
       "\n",
       "   significance  year                     date_str  \n",
       "0           700  2014  2014-03-30T12:34:39.160000Z  \n",
       "1           580  2016  2016-08-27T20:47:47.240000Z  \n",
       "2           346  2017  2017-06-16T00:48:46.940000Z  \n",
       "3           291  2016  2016-06-13T12:14:39.050000Z  \n",
       "4           300  2022  2022-05-11T13:32:02.230000Z  "
      ]
     },
     "execution_count": 193,
     "metadata": {},
     "output_type": "execute_result"
    }
   ],
   "source": [
    "data.head()"
   ]
  },
  {
   "cell_type": "markdown",
   "metadata": {},
   "source": [
    "### Poner los datos en otime"
   ]
  },
  {
   "cell_type": "code",
   "execution_count": 194,
   "metadata": {},
   "outputs": [
    {
     "name": "stdout",
     "output_type": "stream",
     "text": [
      "2012-01-03 10:56:11.780000\n",
      "2022-09-29 23:59:13.570000\n"
     ]
    }
   ],
   "source": [
    "data['otime'] = pd.to_datetime(data['otime'])\n",
    "\n",
    "print (data['otime'].min())\n",
    "print (data['otime'].max())"
   ]
  },
  {
   "cell_type": "markdown",
   "metadata": {},
   "source": [
    "**Sismos en el 2020**"
   ]
  },
  {
   "cell_type": "code",
   "execution_count": 195,
   "metadata": {},
   "outputs": [
    {
     "data": {
      "text/plain": [
       "11       True\n",
       "14       True\n",
       "92       True\n",
       "112      True\n",
       "115      True\n",
       "         ... \n",
       "23931    True\n",
       "23942    True\n",
       "23963    True\n",
       "23970    True\n",
       "23973    True\n",
       "Name: otime, Length: 2230, dtype: bool"
      ]
     },
     "execution_count": 195,
     "metadata": {},
     "output_type": "execute_result"
    }
   ],
   "source": [
    "t_0 = pd.to_datetime(f\"{'2020-01-01'} 00:00:00.00\")\n",
    "t_f = pd.to_datetime(f\"{'2021-01-01'} 00:00:00.00\")\n",
    "\n",
    "ix = (t_0 <= data['otime']) & (data['otime'] <= t_f)\n",
    "ix[ix == True]"
   ]
  },
  {
   "cell_type": "markdown",
   "metadata": {},
   "source": [
    "**Magnitud máxima de un sismo**"
   ]
  },
  {
   "cell_type": "code",
   "execution_count": 196,
   "metadata": {},
   "outputs": [
    {
     "data": {
      "text/plain": [
       "4.83"
      ]
     },
     "execution_count": 196,
     "metadata": {},
     "output_type": "execute_result"
    }
   ],
   "source": [
    "mag_max = data['mag'].max()\n",
    "mag_max"
   ]
  },
  {
   "cell_type": "markdown",
   "metadata": {},
   "source": [
    "### Distribución de magnitudes"
   ]
  },
  {
   "cell_type": "code",
   "execution_count": 197,
   "metadata": {},
   "outputs": [],
   "source": [
    "import matplotlib.pyplot as plt\n",
    "import seaborn as sns"
   ]
  },
  {
   "cell_type": "code",
   "execution_count": 198,
   "metadata": {},
   "outputs": [
    {
     "data": {
      "text/plain": [
       "<Axes: xlabel='mag', ylabel='Count'>"
      ]
     },
     "execution_count": 198,
     "metadata": {},
     "output_type": "execute_result"
    },
    {
     "data": {
      "image/png": "[encoded data removed]",
      "text/plain": [
       "<Figure size 640x480 with 1 Axes>"
      ]
     },
     "metadata": {},
     "output_type": "display_data"
    }
   ],
   "source": [
    "sns.histplot(data = data, x = 'mag')"
   ]
  },
  {
   "cell_type": "markdown",
   "metadata": {},
   "source": [
    "**Vamos a eliminar outliers**"
   ]
  },
  {
   "cell_type": "code",
   "execution_count": 199,
   "metadata": {},
   "outputs": [
    {
     "data": {
      "text/html": [
       "<div>\n",
       "<style scoped>\n",
       "    .dataframe tbody tr th:only-of-type {\n",
       "        vertical-align: middle;\n",
       "    }\n",
       "\n",
       "    .dataframe tbody tr th {\n",
       "        vertical-align: top;\n",
       "    }\n",
       "\n",
       "    .dataframe thead th {\n",
       "        text-align: right;\n",
       "    }\n",
       "</style>\n",
       "<table border=\"1\" class=\"dataframe\">\n",
       "  <thead>\n",
       "    <tr style=\"text-align: right;\">\n",
       "      <th></th>\n",
       "      <th>ev_id</th>\n",
       "      <th>otime</th>\n",
       "      <th>loc</th>\n",
       "      <th>lat</th>\n",
       "      <th>lon</th>\n",
       "      <th>dep</th>\n",
       "      <th>mag</th>\n",
       "      <th>alert</th>\n",
       "      <th>url</th>\n",
       "      <th>ev_type</th>\n",
       "      <th>significance</th>\n",
       "      <th>year</th>\n",
       "      <th>date_str</th>\n",
       "    </tr>\n",
       "  </thead>\n",
       "  <tbody>\n",
       "    <tr>\n",
       "      <th>0</th>\n",
       "      <td>uu60061837</td>\n",
       "      <td>2014-03-30 12:34:39.160</td>\n",
       "      <td>22 km S of Mammoth, Wyoming</td>\n",
       "      <td>44.772167</td>\n",
       "      <td>-110.684667</td>\n",
       "      <td>5.62</td>\n",
       "      <td>4.83</td>\n",
       "      <td>green</td>\n",
       "      <td>https://earthquake.usgs.gov/earthquakes/eventp...</td>\n",
       "      <td>earthquake</td>\n",
       "      <td>700</td>\n",
       "      <td>2014</td>\n",
       "      <td>2014-03-30T12:34:39.160000Z</td>\n",
       "    </tr>\n",
       "    <tr>\n",
       "      <th>1</th>\n",
       "      <td>us20006umx</td>\n",
       "      <td>2016-08-27 20:47:47.240</td>\n",
       "      <td>4 km ENE of Bondurant, Wyoming</td>\n",
       "      <td>43.222600</td>\n",
       "      <td>-110.359300</td>\n",
       "      <td>12.30</td>\n",
       "      <td>4.80</td>\n",
       "      <td>green</td>\n",
       "      <td>https://earthquake.usgs.gov/earthquakes/eventp...</td>\n",
       "      <td>earthquake</td>\n",
       "      <td>580</td>\n",
       "      <td>2016</td>\n",
       "      <td>2016-08-27T20:47:47.240000Z</td>\n",
       "    </tr>\n",
       "    <tr>\n",
       "      <th>2</th>\n",
       "      <td>uu60203137</td>\n",
       "      <td>2017-06-16 00:48:46.940</td>\n",
       "      <td>12 km E of Hebgen Lake Estates, Montana</td>\n",
       "      <td>44.781333</td>\n",
       "      <td>-111.033167</td>\n",
       "      <td>9.30</td>\n",
       "      <td>4.36</td>\n",
       "      <td>green</td>\n",
       "      <td>https://earthquake.usgs.gov/earthquakes/eventp...</td>\n",
       "      <td>earthquake</td>\n",
       "      <td>346</td>\n",
       "      <td>2017</td>\n",
       "      <td>2017-06-16T00:48:46.940000Z</td>\n",
       "    </tr>\n",
       "    <tr>\n",
       "      <th>3</th>\n",
       "      <td>mb80153724</td>\n",
       "      <td>2016-06-13 12:14:39.050</td>\n",
       "      <td>45 km W of Hebgen Lake Estates, Montana</td>\n",
       "      <td>44.730167</td>\n",
       "      <td>-111.763667</td>\n",
       "      <td>9.95</td>\n",
       "      <td>4.34</td>\n",
       "      <td>green</td>\n",
       "      <td>https://earthquake.usgs.gov/earthquakes/eventp...</td>\n",
       "      <td>earthquake</td>\n",
       "      <td>291</td>\n",
       "      <td>2016</td>\n",
       "      <td>2016-06-13T12:14:39.050000Z</td>\n",
       "    </tr>\n",
       "    <tr>\n",
       "      <th>4</th>\n",
       "      <td>uu60497322</td>\n",
       "      <td>2022-05-11 13:32:02.230</td>\n",
       "      <td>36 km S of Silver Gate, Montana</td>\n",
       "      <td>44.681000</td>\n",
       "      <td>-109.996333</td>\n",
       "      <td>13.95</td>\n",
       "      <td>4.22</td>\n",
       "      <td>green</td>\n",
       "      <td>https://earthquake.usgs.gov/earthquakes/eventp...</td>\n",
       "      <td>earthquake</td>\n",
       "      <td>300</td>\n",
       "      <td>2022</td>\n",
       "      <td>2022-05-11T13:32:02.230000Z</td>\n",
       "    </tr>\n",
       "  </tbody>\n",
       "</table>\n",
       "</div>"
      ],
      "text/plain": [
       "        ev_id                   otime  \\\n",
       "0  uu60061837 2014-03-30 12:34:39.160   \n",
       "1  us20006umx 2016-08-27 20:47:47.240   \n",
       "2  uu60203137 2017-06-16 00:48:46.940   \n",
       "3  mb80153724 2016-06-13 12:14:39.050   \n",
       "4  uu60497322 2022-05-11 13:32:02.230   \n",
       "\n",
       "                                       loc        lat         lon    dep  \\\n",
       "0              22 km S of Mammoth, Wyoming  44.772167 -110.684667   5.62   \n",
       "1           4 km ENE of Bondurant, Wyoming  43.222600 -110.359300  12.30   \n",
       "2  12 km E of Hebgen Lake Estates, Montana  44.781333 -111.033167   9.30   \n",
       "3  45 km W of Hebgen Lake Estates, Montana  44.730167 -111.763667   9.95   \n",
       "4          36 km S of Silver Gate, Montana  44.681000 -109.996333  13.95   \n",
       "\n",
       "    mag  alert                                                url     ev_type  \\\n",
       "0  4.83  green  https://earthquake.usgs.gov/earthquakes/eventp...  earthquake   \n",
       "1  4.80  green  https://earthquake.usgs.gov/earthquakes/eventp...  earthquake   \n",
       "2  4.36  green  https://earthquake.usgs.gov/earthquakes/eventp...  earthquake   \n",
       "3  4.34  green  https://earthquake.usgs.gov/earthquakes/eventp...  earthquake   \n",
       "4  4.22  green  https://earthquake.usgs.gov/earthquakes/eventp...  earthquake   \n",
       "\n",
       "   significance  year                     date_str  \n",
       "0           700  2014  2014-03-30T12:34:39.160000Z  \n",
       "1           580  2016  2016-08-27T20:47:47.240000Z  \n",
       "2           346  2017  2017-06-16T00:48:46.940000Z  \n",
       "3           291  2016  2016-06-13T12:14:39.050000Z  \n",
       "4           300  2022  2022-05-11T13:32:02.230000Z  "
      ]
     },
     "execution_count": 199,
     "metadata": {},
     "output_type": "execute_result"
    }
   ],
   "source": [
    "no_outliers = data['mag'] > -9.00\n",
    "data = data[no_outliers]\n",
    "data.head()"
   ]
  },
  {
   "cell_type": "code",
   "execution_count": 200,
   "metadata": {},
   "outputs": [
    {
     "data": {
      "text/plain": [
       "<Axes: xlabel='mag', ylabel='Count'>"
      ]
     },
     "execution_count": 200,
     "metadata": {},
     "output_type": "execute_result"
    },
    {
     "data": {
      "image/png": "[encoded data removed]",
      "text/plain": [
       "<Figure size 640x480 with 1 Axes>"
      ]
     },
     "metadata": {},
     "output_type": "display_data"
    }
   ],
   "source": [
    "sns.histplot(data = data, x = 'mag')"
   ]
  },
  {
   "cell_type": "markdown",
   "metadata": {},
   "source": [
    "## Magnitud de completitud"
   ]
  },
  {
   "cell_type": "markdown",
   "metadata": {},
   "source": [
    "La **Magnitud de Completitud (Mc)** Es la magnitud mínima por encima de la cual se registran de forma fiable todos los terremotos de una región determinada. Este valor es variable en el tiempo y en el espacio. Diferentes regiones tienen una Mc diferente, y ese valor ha cambiado a lo largo del tiempo.\n",
    "\n",
    "Existen varios métodos para determinar la Mc, en este caso se usará el método de Máxima Curvatura (MAXC), donde se calcula **valor máximo de la primera derivada de la curva frecuencia-magnitud**."
   ]
  },
  {
   "cell_type": "code",
   "execution_count": 151,
   "metadata": {},
   "outputs": [
    {
     "name": "stdout",
     "output_type": "stream",
     "text": [
      "Magnitud de completitud: 1.4341800000000176\n"
     ]
    }
   ],
   "source": [
    "import numpy as np\n",
    "import matplotlib.pyplot as plt\n",
    "\n",
    "# Definir rango de magnitudes\n",
    "# El step size fue definido a prueba y error, tal que cumulative_freq y mag_range tuvieran el mismo tamaño\n",
    "mag_range = np.arange(min(data['mag']), max(data['mag']), 0.01374) \n",
    "\n",
    "#Calcular la frecuencia de cada magnitud\n",
    "\n",
    "freq = data['mag'].value_counts().sort_index()\n",
    "\n",
    "# Frecuencia acumulativa\n",
    "cumulative_freq = np.cumsum(freq[::-1])[::-1]\n",
    "\n",
    "# Calcular la derivada de la curva frecuencia-magnitud.\n",
    "derivative = np.diff(cumulative_freq) / np.diff(mag_range)\n",
    "\n",
    "# La magnitud de completitud es la correspondiente al valor máximo de la primera derivada\n",
    "Mc = mag_range [np.argmin(derivative)]\n",
    "\n",
    "print('Magnitud de completitud:', Mc)"
   ]
  },
  {
   "cell_type": "markdown",
   "metadata": {},
   "source": [
    "## Ley de Gutenberg - Ritcher"
   ]
  },
  {
   "cell_type": "markdown",
   "metadata": {},
   "source": [
    "La ley de Gutenberg-Richter es un principio fundamental de la sismología. Establece que el logaritmo del número de terremotos con una magnitud mayor o igual a un determinado valor es linealmente proporcional al negativo de dicha magnitud. La ecuación es:\n",
    "\n",
    "$$\\log_{10}N(M) = a - b(M - Mc); M \\geq Mc$$\n",
    "\n",
    "Donde:\n",
    "- $Mc$ es la Magnitud de Completitud.\n",
    "- $a$ es el logaritmo del número total de terremotos con magnitud $M \\geq M1$.\n",
    "- $b$ es una constante que relaciona el número relativo de magnitudes pequeñas con el de magnitudes grandes.\n",
    "\n",
    "El método Aki es una forma de calcular el valor $b$ de la siguiente manera:\n",
    "\n",
    "$$b = \\log_{10}e(\\overline{M} - Mc)$$\n",
    "\n",
    "donde $\\overline{M}$ es la magnitud media observada."
   ]
  },
  {
   "cell_type": "code",
   "execution_count": 152,
   "metadata": {},
   "outputs": [
    {
     "name": "stdout",
     "output_type": "stream",
     "text": [
      "b es igual a: 0.9658481902465883\n"
     ]
    }
   ],
   "source": [
    "def calculate_b_value(data, Mc):\n",
    "    # Filtra los sismos de magnitud inferior a la magnitud de completitud\n",
    "    data = data[data['mag'] >= Mc]\n",
    "\n",
    "    # Calcular la magnitud media por encima de Mc\n",
    "    mean_mag = np.mean(data['mag'])\n",
    "\n",
    "    # Calcular el valor b\n",
    "    b_value = (1 / (mean_mag - Mc)) * np.log10(np.exp(1))\n",
    "\n",
    "    return b_value\n",
    "\n",
    "b_value = calculate_b_value(data, Mc)\n",
    "print(f\"b es igual a: {b_value}\")\n"
   ]
  },
  {
   "cell_type": "markdown",
   "metadata": {},
   "source": [
    "Para calcular el parámetro `a` de la ley de Gutenberg-Richter a partir de este **dataframe**, se puede utilizar la siguiente fórmula:\n",
    "\n",
    "$$a = \\log_{10}N + bM_c$$\n",
    "\n",
    "donde:\n",
    "- $N$ es el número total de sucesos con magnitud mayor o igual que $M_c$,\n",
    "- $b$ es el parámetro de escala calculado anteriormente,\n",
    "- $M_c$ es la magnitud de completitud calculada anteriormente.\n",
    "\n",
    "Utilizando los valores ya calculados, podemos calcular `a` de la siguiente manera:"
   ]
  },
  {
   "cell_type": "code",
   "execution_count": 153,
   "metadata": {},
   "outputs": [
    {
     "name": "stdout",
     "output_type": "stream",
     "text": [
      "a es igual a: 5.124535117683949\n"
     ]
    }
   ],
   "source": [
    "def calculate_a_value(data, Mc, b_value):\n",
    "    # Filtra los sismos de magnitud inferior a la magnitud de completitud\n",
    "    data = data[data['mag'] >= Mc]\n",
    "\n",
    "    # Calcular el número total de sismos con magnitud >= Mc\n",
    "    N = len(data)\n",
    "\n",
    "    # Calcular el valor de a\n",
    "    a_value = np.log10(N) + b_value * Mc\n",
    "\n",
    "    return a_value\n",
    "\n",
    "a_value = calculate_a_value(data, Mc, b_value)\n",
    "print(f\"a es igual a: {a_value}\")\n"
   ]
  },
  {
   "cell_type": "code",
   "execution_count": 201,
   "metadata": {},
   "outputs": [
    {
     "data": {
      "text/html": [
       "<div>\n",
       "<style scoped>\n",
       "    .dataframe tbody tr th:only-of-type {\n",
       "        vertical-align: middle;\n",
       "    }\n",
       "\n",
       "    .dataframe tbody tr th {\n",
       "        vertical-align: top;\n",
       "    }\n",
       "\n",
       "    .dataframe thead th {\n",
       "        text-align: right;\n",
       "    }\n",
       "</style>\n",
       "<table border=\"1\" class=\"dataframe\">\n",
       "  <thead>\n",
       "    <tr style=\"text-align: right;\">\n",
       "      <th></th>\n",
       "      <th>ev_id</th>\n",
       "      <th>otime</th>\n",
       "      <th>loc</th>\n",
       "      <th>lat</th>\n",
       "      <th>lon</th>\n",
       "      <th>dep</th>\n",
       "      <th>mag</th>\n",
       "      <th>alert</th>\n",
       "      <th>url</th>\n",
       "      <th>ev_type</th>\n",
       "      <th>significance</th>\n",
       "      <th>year</th>\n",
       "      <th>date_str</th>\n",
       "    </tr>\n",
       "  </thead>\n",
       "  <tbody>\n",
       "    <tr>\n",
       "      <th>5482</th>\n",
       "      <td>uu60329077</td>\n",
       "      <td>2019-07-03 15:56:09.890</td>\n",
       "      <td>34 km E of West Yellowstone, Montana</td>\n",
       "      <td>44.639500</td>\n",
       "      <td>-110.672833</td>\n",
       "      <td>5.03</td>\n",
       "      <td>1.44</td>\n",
       "      <td>NaN</td>\n",
       "      <td>https://earthquake.usgs.gov/earthquakes/eventp...</td>\n",
       "      <td>earthquake</td>\n",
       "      <td>32</td>\n",
       "      <td>2019</td>\n",
       "      <td>2019-07-03T15:56:09.890000Z</td>\n",
       "    </tr>\n",
       "    <tr>\n",
       "      <th>5483</th>\n",
       "      <td>uu60225997</td>\n",
       "      <td>2017-08-15 04:59:29.060</td>\n",
       "      <td>28 km ESE of West Yellowstone, Montana</td>\n",
       "      <td>44.572333</td>\n",
       "      <td>-110.766833</td>\n",
       "      <td>4.76</td>\n",
       "      <td>1.44</td>\n",
       "      <td>NaN</td>\n",
       "      <td>https://earthquake.usgs.gov/earthquakes/eventp...</td>\n",
       "      <td>earthquake</td>\n",
       "      <td>32</td>\n",
       "      <td>2017</td>\n",
       "      <td>2017-08-15T04:59:29.060000Z</td>\n",
       "    </tr>\n",
       "    <tr>\n",
       "      <th>5484</th>\n",
       "      <td>mb80166989</td>\n",
       "      <td>2016-08-28 00:28:40.280</td>\n",
       "      <td>15 km NE of Bondurant, Wyoming</td>\n",
       "      <td>43.285000</td>\n",
       "      <td>-110.250000</td>\n",
       "      <td>6.03</td>\n",
       "      <td>1.44</td>\n",
       "      <td>NaN</td>\n",
       "      <td>https://earthquake.usgs.gov/earthquakes/eventp...</td>\n",
       "      <td>earthquake</td>\n",
       "      <td>32</td>\n",
       "      <td>2016</td>\n",
       "      <td>2016-08-28T00:28:40.280000Z</td>\n",
       "    </tr>\n",
       "    <tr>\n",
       "      <th>5485</th>\n",
       "      <td>uu60039987</td>\n",
       "      <td>2013-10-04 07:21:26.440</td>\n",
       "      <td>7 km ESE of Hebgen Lake Estates, Montana</td>\n",
       "      <td>44.747500</td>\n",
       "      <td>-111.097333</td>\n",
       "      <td>11.69</td>\n",
       "      <td>1.44</td>\n",
       "      <td>NaN</td>\n",
       "      <td>https://earthquake.usgs.gov/earthquakes/eventp...</td>\n",
       "      <td>earthquake</td>\n",
       "      <td>32</td>\n",
       "      <td>2013</td>\n",
       "      <td>2013-10-04T07:21:26.440000Z</td>\n",
       "    </tr>\n",
       "    <tr>\n",
       "      <th>5486</th>\n",
       "      <td>uu60029374</td>\n",
       "      <td>2021-10-28 03:30:09.850</td>\n",
       "      <td>37 km S of Silver Gate, Montana</td>\n",
       "      <td>44.671333</td>\n",
       "      <td>-110.046000</td>\n",
       "      <td>14.37</td>\n",
       "      <td>1.44</td>\n",
       "      <td>NaN</td>\n",
       "      <td>https://earthquake.usgs.gov/earthquakes/eventp...</td>\n",
       "      <td>earthquake</td>\n",
       "      <td>32</td>\n",
       "      <td>2021</td>\n",
       "      <td>2021-10-28T03:30:09.850000Z</td>\n",
       "    </tr>\n",
       "  </tbody>\n",
       "</table>\n",
       "</div>"
      ],
      "text/plain": [
       "           ev_id                   otime  \\\n",
       "5482  uu60329077 2019-07-03 15:56:09.890   \n",
       "5483  uu60225997 2017-08-15 04:59:29.060   \n",
       "5484  mb80166989 2016-08-28 00:28:40.280   \n",
       "5485  uu60039987 2013-10-04 07:21:26.440   \n",
       "5486  uu60029374 2021-10-28 03:30:09.850   \n",
       "\n",
       "                                           loc        lat         lon    dep  \\\n",
       "5482      34 km E of West Yellowstone, Montana  44.639500 -110.672833   5.03   \n",
       "5483    28 km ESE of West Yellowstone, Montana  44.572333 -110.766833   4.76   \n",
       "5484            15 km NE of Bondurant, Wyoming  43.285000 -110.250000   6.03   \n",
       "5485  7 km ESE of Hebgen Lake Estates, Montana  44.747500 -111.097333  11.69   \n",
       "5486           37 km S of Silver Gate, Montana  44.671333 -110.046000  14.37   \n",
       "\n",
       "       mag alert                                                url  \\\n",
       "5482  1.44   NaN  https://earthquake.usgs.gov/earthquakes/eventp...   \n",
       "5483  1.44   NaN  https://earthquake.usgs.gov/earthquakes/eventp...   \n",
       "5484  1.44   NaN  https://earthquake.usgs.gov/earthquakes/eventp...   \n",
       "5485  1.44   NaN  https://earthquake.usgs.gov/earthquakes/eventp...   \n",
       "5486  1.44   NaN  https://earthquake.usgs.gov/earthquakes/eventp...   \n",
       "\n",
       "         ev_type  significance  year                     date_str  \n",
       "5482  earthquake            32  2019  2019-07-03T15:56:09.890000Z  \n",
       "5483  earthquake            32  2017  2017-08-15T04:59:29.060000Z  \n",
       "5484  earthquake            32  2016  2016-08-28T00:28:40.280000Z  \n",
       "5485  earthquake            32  2013  2013-10-04T07:21:26.440000Z  \n",
       "5486  earthquake            32  2021  2021-10-28T03:30:09.850000Z  "
      ]
     },
     "execution_count": 201,
     "metadata": {},
     "output_type": "execute_result"
    }
   ],
   "source": [
    "data_mc = data[data['mag'] >= Mc]\n",
    "data_mc.tail() #Ver los 5 valores más bajos de magnitud\n"
   ]
  },
  {
   "cell_type": "markdown",
   "metadata": {},
   "source": [
    "### Datos reales de N vs Magnitud"
   ]
  },
  {
   "cell_type": "code",
   "execution_count": 188,
   "metadata": {},
   "outputs": [
    {
     "data": {
      "image/png": "[encoded data removed]",
      "text/plain": [
       "<Figure size 1000x600 with 1 Axes>"
      ]
     },
     "metadata": {},
     "output_type": "display_data"
    }
   ],
   "source": [
    "# Calcula el histograma de los datos con la función histograma de numpy\n",
    "counts, bins = np.histogram(data_mc['mag'])\n",
    "\n",
    "# Calcula los centros de los bins\n",
    "bin_centers = (bins[1:] + bins[:-1]) / 2\n",
    "\n",
    "# Crear el gráfico\n",
    "plt.figure(figsize=(10, 6))\n",
    "plt.bar(bin_centers, counts, width=np.diff(bins), align='center', alpha=0.7) # trazar histograma\n",
    "plt.plot(bin_centers, counts, marker='o', linestyle='-', color='r') # trazar línea que pasa por cada punto\n",
    "plt.xlabel('Magnitud (M)')\n",
    "plt.ylabel('Número de terremotos')\n",
    "plt.title('Número de terremotos vs magnitud')\n",
    "plt.grid(True)\n",
    "plt.show()"
   ]
  },
  {
   "cell_type": "markdown",
   "metadata": {},
   "source": [
    "## Curva teórica de N vs Magnitud con los valores calculados para $a$, $b$ y $Mc$"
   ]
  },
  {
   "cell_type": "code",
   "execution_count": 183,
   "metadata": {},
   "outputs": [
    {
     "data": {
      "image/png": "[encoded data removed]",
      "text/plain": [
       "<Figure size 1000x600 with 1 Axes>"
      ]
     },
     "metadata": {},
     "output_type": "display_data"
    }
   ],
   "source": [
    "a = a_value \n",
    "b = b_value \n",
    "M = data_mc['mag'] \n",
    "\n",
    "# Calcular N\n",
    "N = 10**(a - b * M)\n",
    "\n",
    "# Crear el gráfico\n",
    "plt.figure(figsize=(10, 6))\n",
    "plt.plot(M, N)\n",
    "plt.xlabel('Magnitud (M)')\n",
    "plt.ylabel('Número de terremotos (N)')\n",
    "plt.title('Ley de Gutenberg-Richter')\n",
    "plt.grid(True)\n",
    "plt.show()"
   ]
  }
 ],
 "metadata": {
  "kernelspec": {
   "display_name": "pygmt",
   "language": "python",
   "name": "python3"
  },
  "language_info": {
   "codemirror_mode": {
    "name": "ipython",
    "version": 3
   },
   "file_extension": ".py",
   "mimetype": "text/x-python",
   "name": "python",
   "nbconvert_exporter": "python",
   "pygments_lexer": "ipython3",
   "version": "3.11.5"
  },
  "orig_nbformat": 4
 },
 "nbformat": 4,
 "nbformat_minor": 2
}
